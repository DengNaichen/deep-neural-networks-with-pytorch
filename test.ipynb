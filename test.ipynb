{
 "metadata": {
  "language_info": {
   "codemirror_mode": {
    "name": "ipython",
    "version": 3
   },
   "file_extension": ".py",
   "mimetype": "text/x-python",
   "name": "python",
   "nbconvert_exporter": "python",
   "pygments_lexer": "ipython3",
   "version": "3.8.5-final"
  },
  "orig_nbformat": 2,
  "kernelspec": {
   "name": "python3",
   "language": "python",
   "display_name": "Python 3"
  }
 },
 "nbformat": 4,
 "nbformat_minor": 2,
 "cells": [
  {
   "cell_type": "code",
   "execution_count": 1,
   "metadata": {},
   "outputs": [],
   "source": [
    "import numpy as np\n",
    "from numpy import sin, pi, abs\n",
    "from scipy.integrate import dblquad, trapz,quad\n",
    "import matplotlib.pyplot as plt\n",
    "from Data import Data\n",
    "import torch\n",
    "from mpl_toolkits.mplot3d import Axes3D\n",
    "\n",
    "%matplotlib qt"
   ]
  },
  {
   "cell_type": "code",
   "execution_count": 9,
   "metadata": {
    "tags": []
   },
   "outputs": [
    {
     "name": "stdout",
     "output_type": "stream",
     "text": [
      "<class 'torch.Tensor'>\n"
     ]
    }
   ],
   "source": [
    "data_set = Data(128)\n",
    "x, y = data_set.get()\n",
    "print (type(x))"
   ]
  },
  {
   "cell_type": "code",
   "execution_count": 10,
   "metadata": {},
   "outputs": [
    {
     "data": {
      "text/plain": "[<matplotlib.lines.Line2D at 0x7f8159ab7130>]"
     },
     "execution_count": 10,
     "metadata": {},
     "output_type": "execute_result"
    },
    {
     "data": {
      "text/plain": "<Figure size 432x288 with 1 Axes>",
      "image/png": "[encoded data removed]"
     },
     "metadata": {
      "needs_background": "light"
     },
     "output_type": "display_data"
    }
   ],
   "source": [
    "plt.plot(x, y)"
   ]
  },
  {
   "cell_type": "code",
   "execution_count": 11,
   "metadata": {
    "tags": []
   },
   "outputs": [
    {
     "name": "stdout",
     "output_type": "stream",
     "text": [
      "[3.1415925]\n",
      "<class 'numpy.ndarray'>\n"
     ]
    }
   ],
   "source": [
    "I = trapz(y.T ,x.T)\n",
    "print (I)\n",
    "print (type(I))"
   ]
  },
  {
   "cell_type": "code",
   "execution_count": 12,
   "metadata": {},
   "outputs": [
    {
     "name": "stdout",
     "output_type": "stream",
     "text": [
      "tensor([3.1416])\n",
      "<class 'torch.Tensor'>\n",
      "tensor(1.5585)\n"
     ]
    }
   ],
   "source": [
    "# test the third term\n",
    "I_test = torch.trapz(y.T,x.T)\n",
    "print (I_test)\n",
    "print (type(I_test))\n",
    "avg = torch.mean(y * x)  # this equation is wrong\n",
    "print(avg)"
   ]
  },
  {
   "cell_type": "code",
   "execution_count": 13,
   "outputs": [],
   "source": [
    "# test the second term\n",
    "# theta = np.linspace(0, 2*np.pi, 100)\n",
    "# theta_prime = np.linspace(0, 2*np.pi, 100)\n",
    "F = lambda theta, theta_prime: sin(theta)**2 * \\\n",
    "                               sin(theta_prime)**2 * abs(sin(theta - theta_prime))\n",
    "\n"
   ],
   "metadata": {
    "collapsed": false,
    "pycharm": {
     "name": "#%%\n"
    }
   }
  },
  {
   "cell_type": "code",
   "execution_count": 14,
   "outputs": [
    {
     "data": {
      "text/plain": "(5.2359877537509005, 1.9544067031418422e-08)"
     },
     "execution_count": 14,
     "metadata": {},
     "output_type": "execute_result"
    }
   ],
   "source": [
    "dblquad(F, 0, 2*pi, lambda x: 0, lambda x: 2*pi)"
   ],
   "metadata": {
    "collapsed": false,
    "pycharm": {
     "name": "#%%\n"
    }
   }
  },
  {
   "cell_type": "code",
   "execution_count": 15,
   "outputs": [
    {
     "name": "stdout",
     "output_type": "stream",
     "text": [
      "torch.Size([1000, 1000])\n"
     ]
    }
   ],
   "source": [
    "data_set = Data(1000)\n",
    "x, y = data_set.get()\n",
    "matrix = data_set.matrix()\n",
    "print (matrix.size())\n",
    "\n",
    "# second_term = (4*pi**2/128**2)*torch.mm(torch.mm(y.T, matrix), y)\n",
    "# print(second_term)"
   ],
   "metadata": {
    "collapsed": false,
    "pycharm": {
     "name": "#%%\n"
    }
   }
  },
  {
   "cell_type": "code",
   "execution_count": 16,
   "outputs": [
    {
     "data": {
      "text/plain": "tensor([[5.2255]])"
     },
     "execution_count": 16,
     "metadata": {},
     "output_type": "execute_result"
    }
   ],
   "source": [
    "(4*pi**2/1000**2) * torch.mm(torch.mm(y.T, matrix), y)"
   ],
   "metadata": {
    "collapsed": false,
    "pycharm": {
     "name": "#%%\n"
    }
   }
  },
  {
   "cell_type": "code",
   "execution_count": 4,
   "outputs": [
    {
     "data": {
      "text/plain": "(-1.2135795270174112, 7.007086022525755e-10)"
     },
     "execution_count": 4,
     "metadata": {},
     "output_type": "execute_result"
    }
   ],
   "source": [
    "# check first term\n",
    "entropy = lambda theta: sin(theta)**2 * np.log(sin(theta)**2)\n",
    "quad(entropy, 0, 2*pi)"
   ],
   "metadata": {
    "collapsed": false,
    "pycharm": {
     "name": "#%%\n"
    }
   }
  },
  {
   "cell_type": "code",
   "execution_count": 11,
   "outputs": [
    {
     "name": "stdout",
     "output_type": "stream",
     "text": [
      "torch.Size([128, 1])\n"
     ]
    }
   ],
   "source": [
    "data_set = Data(128)\n",
    "_,y = data_set.get()\n",
    "print (y.size())"
   ],
   "metadata": {
    "collapsed": false,
    "pycharm": {
     "name": "#%%\n"
    }
   }
  },
  {
   "cell_type": "code",
   "execution_count": 12,
   "outputs": [
    {
     "data": {
      "text/plain": "tensor([[-1.2041]])"
     },
     "execution_count": 12,
     "metadata": {},
     "output_type": "execute_result"
    }
   ],
   "source": [
    "(2*pi/len(y))*torch.mm(y.T, torch.log(y))"
   ],
   "metadata": {
    "collapsed": false,
    "pycharm": {
     "name": "#%%\n"
    }
   }
  },
  {
   "cell_type": "code",
   "execution_count": 3,
   "outputs": [],
   "source": [
    "# compare the vectorization and trapz\n",
    "\n",
    "data_set = Data(128)\n",
    "x,y = data_set.get()\n",
    "x = x.numpy()\n",
    "y = y.numpy()"
   ],
   "metadata": {
    "collapsed": false,
    "pycharm": {
     "name": "#%%\n"
    }
   }
  },
  {
   "cell_type": "code",
   "execution_count": 5,
   "outputs": [
    {
     "name": "stdout",
     "output_type": "stream",
     "text": [
      "[-1.2135761]\n"
     ]
    }
   ],
   "source": [
    "f = y * np.log(y)\n",
    "I = trapz(f.T,x.T)\n",
    "print (I)"
   ],
   "metadata": {
    "collapsed": false,
    "pycharm": {
     "name": "#%%\n"
    }
   }
  },
  {
   "cell_type": "code",
   "execution_count": 9,
   "outputs": [
    {
     "name": "stdout",
     "output_type": "stream",
     "text": [
      "[[-1.204095]]\n"
     ]
    }
   ],
   "source": [
    "vac = (2*pi/len(y)) * np.dot(y.T, np.log(y))\n",
    "print (vac)"
   ],
   "metadata": {
    "collapsed": false,
    "pycharm": {
     "name": "#%%\n"
    }
   }
  },
  {
   "cell_type": "code",
   "execution_count": 21,
   "outputs": [
    {
     "data": {
      "text/plain": "<matplotlib.collections.PathCollection at 0x7f815a9cb970>"
     },
     "execution_count": 21,
     "metadata": {},
     "output_type": "execute_result"
    },
    {
     "data": {
      "text/plain": "<Figure size 432x288 with 1 Axes>",
      "image/png": "[encoded data removed]"
     },
     "metadata": {
      "needs_background": "light"
     },
     "output_type": "display_data"
    }
   ],
   "source": [
    "# test lr decay\n",
    "ep = np.arange(0, 100, 1)\n",
    "lr = 0.02 * 0.9996**ep\n",
    "plt.plot(ep, lr)\n",
    "plt.scatter(ep, lr, marker='.')"
   ],
   "metadata": {
    "collapsed": false,
    "pycharm": {
     "name": "#%%\n"
    }
   }
  },
  {
   "cell_type": "code",
   "execution_count": null,
   "outputs": [],
   "source": [
    "lr1 = 0.02 * (1 / (1 + 0.0009 * ep))\n",
    "plt.plot(ep, lr1)\n",
    "plt.scatter(ep, lr1, ma)"
   ],
   "metadata": {
    "collapsed": false,
    "pycharm": {
     "name": "#%%\n"
    }
   }
  },
  {
   "cell_type": "code",
   "execution_count": 6,
   "outputs": [
    {
     "data": {
      "text/plain": "0.008687769084472647"
     },
     "execution_count": 6,
     "metadata": {},
     "output_type": "execute_result"
    }
   ],
   "source": [
    "0.92**10 * 0.02"
   ],
   "metadata": {
    "collapsed": false,
    "pycharm": {
     "name": "#%%\n"
    }
   }
  },
  {
   "cell_type": "markdown",
   "source": [
    "try to plot the 3D plot"
   ],
   "metadata": {
    "collapsed": false,
    "pycharm": {
     "name": "#%% md\n"
    }
   }
  },
  {
   "cell_type": "code",
   "execution_count": 2,
   "outputs": [
    {
     "output_type": "stream",
     "name": "stdout",
     "text": "(15, 256)\n(15, 256)\n(15, 256)\n[[0.         0.02463994 0.04927988 ... 6.23390542 6.25854536 6.28318531]\n [0.         0.02463994 0.04927988 ... 6.23390542 6.25854536 6.28318531]\n [0.         0.02463994 0.04927988 ... 6.23390542 6.25854536 6.28318531]\n ...\n [0.         0.02463994 0.04927988 ... 6.23390542 6.25854536 6.28318531]\n [0.         0.02463994 0.04927988 ... 6.23390542 6.25854536 6.28318531]\n [0.         0.02463994 0.04927988 ... 6.23390542 6.25854536 6.28318531]]\n[[4.         4.         4.         ... 4.         4.         4.        ]\n [4.14285714 4.14285714 4.14285714 ... 4.14285714 4.14285714 4.14285714]\n [4.28571429 4.28571429 4.28571429 ... 4.28571429 4.28571429 4.28571429]\n ...\n [5.71428571 5.71428571 5.71428571 ... 5.71428571 5.71428571 5.71428571]\n [5.85714286 5.85714286 5.85714286 ... 5.85714286 5.85714286 5.85714286]\n [6.         6.         6.         ... 6.         6.         6.        ]]\n[[-0.7568025  -0.7568521  -0.75700088 ...  0.90169541  0.91047232\n   0.91886658]\n [-0.84215352 -0.84219303 -0.84231152 ...  0.93268589  0.93989512\n   0.946716  ]\n [-0.91034694 -0.91037626 -0.91046416 ...  0.95852891  0.96412102\n   0.96932145]\n ...\n [-0.53870529 -0.53866053 -0.53852625 ...  0.82383576  0.81339526\n   0.80266651]\n [-0.41327027 -0.41322307 -0.41308148 ...  0.76495148  0.75325179\n   0.74128656]\n [-0.2794155  -0.27936692 -0.27922118 ...  0.69794179  0.68510636\n   0.67202977]]\n"
    }
   ],
   "source": [
    "fig = plt.figure()\n",
    "ax = Axes3D(fig)\n",
    "X = np.linspace(0, 2*pi, 256)\n",
    "Y = np.linspace(4, 6, 15)\n",
    "X, Y = np.meshgrid(X, Y)    # x-y 平面的网格\n",
    "R = np.sqrt(X ** 2 + Y ** 2)\n",
    "# height value\n",
    "Z = np.sin(R)\n",
    "ax.plot_surface(X, Y, Z, rstride=1, cstride=1, cmap=plt.get_cmap('rainbow'))\n",
    "print (X.shape)\n",
    "print (Y.shape)\n",
    "print (Z.shape)\n",
    "print (X)\n",
    "print (Y)\n",
    "print (Z)\n",
    "# 我需要把Z重写成一个数组"
   ],
   "metadata": {
    "collapsed": false,
    "pycharm": {
     "name": "#%%\n"
    },
    "tags": []
   }
  },
  {
   "cell_type": "code",
   "execution_count": null,
   "outputs": [],
   "source": [],
   "metadata": {
    "collapsed": false,
    "pycharm": {
     "name": "#%%\n"
    }
   }
  }
 ]
}