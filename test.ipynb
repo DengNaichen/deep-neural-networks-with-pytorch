{
 "metadata": {
  "language_info": {
   "codemirror_mode": {
    "name": "ipython",
    "version": 3
   },
   "file_extension": ".py",
   "mimetype": "text/x-python",
   "name": "python",
   "nbconvert_exporter": "python",
   "pygments_lexer": "ipython3",
   "version": "3.8.5-final"
  },
  "orig_nbformat": 2,
  "kernelspec": {
   "name": "python3",
   "language": "python",
   "display_name": "Python 3"
  }
 },
 "nbformat": 4,
 "nbformat_minor": 2,
 "cells": [
  {
   "cell_type": "code",
   "execution_count": 1,
   "metadata": {},
   "outputs": [],
   "source": [
    "import numpy as np\n",
    "from numpy import sin, pi, abs\n",
    "from scipy.integrate import dblquad, trapz,quad, simps, romb\n",
    "import matplotlib.pyplot as plt\n",
    "from Data import Data\n",
    "import torch\n",
    "from mpl_toolkits.mplot3d import Axes3D"
   ]
  },
  {
   "cell_type": "code",
   "execution_count": 2,
   "metadata": {
    "tags": []
   },
   "outputs": [
    {
     "name": "stdout",
     "output_type": "stream",
     "text": [
      "torch.Size([100, 1])\n",
      "torch.Size([98, 1])\n",
      "tensor([[0.0636],\n",
      "        [0.1270],\n",
      "        [0.1905],\n",
      "        [0.2540],\n",
      "        [0.3174],\n",
      "        [0.3809],\n",
      "        [0.4444],\n",
      "        [0.5078],\n",
      "        [0.5713],\n",
      "        [0.6348],\n",
      "        [0.6982],\n",
      "        [0.7617],\n",
      "        [0.8252],\n",
      "        [0.8886],\n",
      "        [0.9521],\n",
      "        [1.0156],\n",
      "        [1.0790],\n",
      "        [1.1425],\n",
      "        [1.2060],\n",
      "        [1.2694],\n",
      "        [1.3329],\n",
      "        [1.3964],\n",
      "        [1.4598],\n",
      "        [1.5233],\n",
      "        [1.5868],\n",
      "        [1.6502],\n",
      "        [1.7137],\n",
      "        [1.7772],\n",
      "        [1.8406],\n",
      "        [1.9041],\n",
      "        [1.9676],\n",
      "        [2.0310],\n",
      "        [2.0945],\n",
      "        [2.1580],\n",
      "        [2.2214],\n",
      "        [2.2849],\n",
      "        [2.3484],\n",
      "        [2.4118],\n",
      "        [2.4753],\n",
      "        [2.5388],\n",
      "        [2.6022],\n",
      "        [2.6657],\n",
      "        [2.7292],\n",
      "        [2.7926],\n",
      "        [2.8561],\n",
      "        [2.9196],\n",
      "        [2.9830],\n",
      "        [3.0465],\n",
      "        [3.1100],\n",
      "        [3.1734],\n",
      "        [3.2369],\n",
      "        [3.3004],\n",
      "        [3.3638],\n",
      "        [3.4273],\n",
      "        [3.4908],\n",
      "        [3.5542],\n",
      "        [3.6177],\n",
      "        [3.6812],\n",
      "        [3.7446],\n",
      "        [3.8081],\n",
      "        [3.8716],\n",
      "        [3.9350],\n",
      "        [3.9985],\n",
      "        [4.0620],\n",
      "        [4.1254],\n",
      "        [4.1889],\n",
      "        [4.2524],\n",
      "        [4.3158],\n",
      "        [4.3793],\n",
      "        [4.4428],\n",
      "        [4.5062],\n",
      "        [4.5697],\n",
      "        [4.6332],\n",
      "        [4.6966],\n",
      "        [4.7601],\n",
      "        [4.8236],\n",
      "        [4.8870],\n",
      "        [4.9505],\n",
      "        [5.0140],\n",
      "        [5.0774],\n",
      "        [5.1409],\n",
      "        [5.2044],\n",
      "        [5.2678],\n",
      "        [5.3313],\n",
      "        [5.3948],\n",
      "        [5.4582],\n",
      "        [5.5217],\n",
      "        [5.5852],\n",
      "        [5.6486],\n",
      "        [5.7121],\n",
      "        [5.7756],\n",
      "        [5.8390],\n",
      "        [5.9025],\n",
      "        [5.9660],\n",
      "        [6.0294],\n",
      "        [6.0929],\n",
      "        [6.1564],\n",
      "        [6.2198]])\n"
     ]
    }
   ],
   "source": [
    "lower = 0.0001\n",
    "upper = 2 * np.pi+lower\n",
    "a = torch.unsqueeze(torch.linspace(lower, upper, 100), dim=1)\n",
    "# print (a)\n",
    "print (a.size())\n",
    "a = a[1:-1]\n",
    "# data_set = Data(128, lower, upper)\n",
    "# x, y = data_set.get()\n",
    "# print (type(x))\n",
    "# print (a)\n",
    "print (a.size())\n",
    "print (a)"
   ]
  },
  {
   "cell_type": "code",
   "execution_count": 13,
   "outputs": [],
   "source": [
    "# test the second term\n",
    "# theta = np.linspace(0, 2*np.pi, 100)\n",
    "# theta_prime = np.linspace(0, 2*np.pi, 100)\n",
    "F = lambda theta, theta_prime: sin(theta)**2 * \\\n",
    "                               sin(theta_prime)**2 * abs(sin(theta - theta_prime))\n",
    "\n"
   ],
   "metadata": {
    "collapsed": false,
    "pycharm": {
     "name": "#%%\n"
    }
   }
  },
  {
   "cell_type": "code",
   "execution_count": 14,
   "outputs": [
    {
     "data": {
      "text/plain": "(5.2359877537509005, 1.9544067031418422e-08)"
     },
     "execution_count": 14,
     "metadata": {},
     "output_type": "execute_result"
    }
   ],
   "source": [
    "dblquad(F, 0, 2*pi, lambda x: 0, lambda x: 2*pi)"
   ],
   "metadata": {
    "collapsed": false,
    "pycharm": {
     "name": "#%%\n"
    }
   }
  },
  {
   "cell_type": "code",
   "execution_count": 15,
   "outputs": [
    {
     "name": "stdout",
     "output_type": "stream",
     "text": [
      "torch.Size([1000, 1000])\n"
     ]
    }
   ],
   "source": [
    "data_set = Data(1000)\n",
    "x, y = data_set.get()\n",
    "matrix = data_set.matrix()\n",
    "print (matrix.size())\n",
    "\n",
    "# second_term = (4*pi**2/128**2)*torch.mm(torch.mm(y.T, matrix), y)\n",
    "# print(second_term)"
   ],
   "metadata": {
    "collapsed": false,
    "pycharm": {
     "name": "#%%\n"
    }
   }
  },
  {
   "cell_type": "code",
   "execution_count": 16,
   "outputs": [
    {
     "data": {
      "text/plain": "tensor([[5.2255]])"
     },
     "execution_count": 16,
     "metadata": {},
     "output_type": "execute_result"
    }
   ],
   "source": [
    "(4*pi**2/1000**2) * torch.mm(torch.mm(y.T, matrix), y)"
   ],
   "metadata": {
    "collapsed": false,
    "pycharm": {
     "name": "#%%\n"
    }
   }
  },
  {
   "cell_type": "code",
   "execution_count": 4,
   "outputs": [
    {
     "data": {
      "text/plain": "(-1.2135795270174112, 7.007086022525755e-10)"
     },
     "execution_count": 4,
     "metadata": {},
     "output_type": "execute_result"
    }
   ],
   "source": [
    "# check first term\n",
    "entropy = lambda theta: sin(theta)**2 * np.log(sin(theta)**2)\n",
    "quad(entropy, 0, 2*pi)"
   ],
   "metadata": {
    "collapsed": false,
    "pycharm": {
     "name": "#%%\n"
    }
   }
  },
  {
   "cell_type": "code",
   "execution_count": 11,
   "outputs": [
    {
     "name": "stdout",
     "output_type": "stream",
     "text": [
      "torch.Size([128, 1])\n"
     ]
    }
   ],
   "source": [
    "data_set = Data(128)\n",
    "_,y = data_set.get()\n",
    "print (y.size())"
   ],
   "metadata": {
    "collapsed": false,
    "pycharm": {
     "name": "#%%\n"
    }
   }
  },
  {
   "cell_type": "code",
   "execution_count": 12,
   "outputs": [
    {
     "data": {
      "text/plain": "tensor([[-1.2041]])"
     },
     "execution_count": 12,
     "metadata": {},
     "output_type": "execute_result"
    }
   ],
   "source": [
    "(2*pi/len(y))*torch.mm(y.T, torch.log(y))"
   ],
   "metadata": {
    "collapsed": false,
    "pycharm": {
     "name": "#%%\n"
    }
   }
  },
  {
   "cell_type": "code",
   "execution_count": 3,
   "outputs": [],
   "source": [
    "# compare the vectorization and trapz\n",
    "\n",
    "data_set = Data(128)\n",
    "x,y = data_set.get()\n",
    "x = x.numpy()\n",
    "y = y.numpy()"
   ],
   "metadata": {
    "collapsed": false,
    "pycharm": {
     "name": "#%%\n"
    }
   }
  },
  {
   "cell_type": "code",
   "execution_count": 5,
   "outputs": [
    {
     "name": "stdout",
     "output_type": "stream",
     "text": [
      "[-1.2135761]\n"
     ]
    }
   ],
   "source": [
    "f = y * np.log(y)\n",
    "I = trapz(f.T,x.T)\n",
    "print (I)"
   ],
   "metadata": {
    "collapsed": false,
    "pycharm": {
     "name": "#%%\n"
    }
   }
  },
  {
   "cell_type": "code",
   "execution_count": 9,
   "outputs": [
    {
     "name": "stdout",
     "output_type": "stream",
     "text": [
      "[[-1.204095]]\n"
     ]
    }
   ],
   "source": [
    "vac = (2*pi/len(y)) * np.dot(y.T, np.log(y))\n",
    "print (vac)"
   ],
   "metadata": {
    "collapsed": false,
    "pycharm": {
     "name": "#%%\n"
    }
   }
  },
  {
   "cell_type": "code",
   "execution_count": 21,
   "outputs": [
    {
     "data": {
      "text/plain": "<matplotlib.collections.PathCollection at 0x7f815a9cb970>"
     },
     "execution_count": 21,
     "metadata": {},
     "output_type": "execute_result"
    },
    {
     "data": {
      "text/plain": "<Figure size 432x288 with 1 Axes>",
      "image/png": "[encoded data removed]"
     },
     "metadata": {
      "needs_background": "light"
     },
     "output_type": "display_data"
    }
   ],
   "source": [
    "# test lr decay\n",
    "ep = np.arange(0, 100, 1)\n",
    "lr = 0.02 * 0.9996**ep\n",
    "plt.plot(ep, lr)\n",
    "plt.scatter(ep, lr, marker='.')"
   ],
   "metadata": {
    "collapsed": false,
    "pycharm": {
     "name": "#%%\n"
    }
   }
  },
  {
   "cell_type": "code",
   "execution_count": null,
   "outputs": [],
   "source": [
    "lr1 = 0.02 * (1 / (1 + 0.0009 * ep))\n",
    "plt.plot(ep, lr1)\n",
    "plt.scatter(ep, lr1, ma)"
   ],
   "metadata": {
    "collapsed": false,
    "pycharm": {
     "name": "#%%\n"
    }
   }
  },
  {
   "cell_type": "code",
   "execution_count": 6,
   "outputs": [
    {
     "data": {
      "text/plain": "0.008687769084472647"
     },
     "execution_count": 6,
     "metadata": {},
     "output_type": "execute_result"
    }
   ],
   "source": [
    "0.92**10 * 0.02"
   ],
   "metadata": {
    "collapsed": false,
    "pycharm": {
     "name": "#%%\n"
    }
   }
  },
  {
   "cell_type": "markdown",
   "source": [
    "try to plot the 3D plot"
   ],
   "metadata": {
    "collapsed": false,
    "pycharm": {
     "name": "#%% md\n"
    }
   }
  },
  {
   "cell_type": "code",
   "execution_count": 2,
   "outputs": [
    {
     "output_type": "stream",
     "name": "stdout",
     "text": "(15, 256)\n(15, 256)\n(15, 256)\n[[0.         0.02463994 0.04927988 ... 6.23390542 6.25854536 6.28318531]\n [0.         0.02463994 0.04927988 ... 6.23390542 6.25854536 6.28318531]\n [0.         0.02463994 0.04927988 ... 6.23390542 6.25854536 6.28318531]\n ...\n [0.         0.02463994 0.04927988 ... 6.23390542 6.25854536 6.28318531]\n [0.         0.02463994 0.04927988 ... 6.23390542 6.25854536 6.28318531]\n [0.         0.02463994 0.04927988 ... 6.23390542 6.25854536 6.28318531]]\n[[4.         4.         4.         ... 4.         4.         4.        ]\n [4.14285714 4.14285714 4.14285714 ... 4.14285714 4.14285714 4.14285714]\n [4.28571429 4.28571429 4.28571429 ... 4.28571429 4.28571429 4.28571429]\n ...\n [5.71428571 5.71428571 5.71428571 ... 5.71428571 5.71428571 5.71428571]\n [5.85714286 5.85714286 5.85714286 ... 5.85714286 5.85714286 5.85714286]\n [6.         6.         6.         ... 6.         6.         6.        ]]\n[[-0.7568025  -0.7568521  -0.75700088 ...  0.90169541  0.91047232\n   0.91886658]\n [-0.84215352 -0.84219303 -0.84231152 ...  0.93268589  0.93989512\n   0.946716  ]\n [-0.91034694 -0.91037626 -0.91046416 ...  0.95852891  0.96412102\n   0.96932145]\n ...\n [-0.53870529 -0.53866053 -0.53852625 ...  0.82383576  0.81339526\n   0.80266651]\n [-0.41327027 -0.41322307 -0.41308148 ...  0.76495148  0.75325179\n   0.74128656]\n [-0.2794155  -0.27936692 -0.27922118 ...  0.69794179  0.68510636\n   0.67202977]]\n"
    }
   ],
   "source": [
    "fig = plt.figure()\n",
    "ax = Axes3D(fig)\n",
    "X = np.linspace(0, 2*pi, 256)\n",
    "Y = np.linspace(4, 6, 15)\n",
    "X, Y = np.meshgrid(X, Y)    # x-y 平面的网格\n",
    "R = np.sqrt(X ** 2 + Y ** 2)\n",
    "# height value\n",
    "Z = np.sin(R)\n",
    "ax.plot_surface(X, Y, Z, rstride=1, cstride=1, cmap=plt.get_cmap('rainbow'))\n",
    "print (X.shape)\n",
    "print (Y.shape)\n",
    "print (Z.shape)\n",
    "print (X)\n",
    "print (Y)\n",
    "print (Z)\n",
    "# 我需要把Z重写成一个数组"
   ],
   "metadata": {
    "collapsed": false,
    "pycharm": {
     "name": "#%%\n"
    },
    "tags": []
   }
  },
  {
   "cell_type": "markdown",
   "source": [
    "### try simpson's rule\n",
    "we have 128 points, and the function is $f = sin^{2}(x) + log (sin^{2}(x))$\n",
    "\n",
    "\n",
    "here is the exact result"
   ],
   "metadata": {
    "collapsed": false,
    "pycharm": {
     "name": "#%% md\n"
    }
   }
  },
  {
   "cell_type": "code",
   "execution_count": 23,
   "outputs": [
    {
     "name": "stdout",
     "output_type": "stream",
     "text": [
      "the exact result is -5.568751707624641\n"
     ]
    }
   ],
   "source": [
    "x1 = lambda x: np.sin(x)**2 + np.log(sin(x)**2)\n",
    "I1, error = quad(x1, 0, 2*np.pi)\n",
    "print (\"the exact result is\", I1)"
   ],
   "metadata": {
    "collapsed": false,
    "pycharm": {
     "name": "#%%\n"
    }
   }
  },
  {
   "cell_type": "markdown",
   "source": [
    "use trapezoidal rule"
   ],
   "metadata": {
    "collapsed": false,
    "pycharm": {
     "name": "#%% md\n"
    }
   }
  },
  {
   "cell_type": "code",
   "execution_count": 29,
   "outputs": [
    {
     "name": "stdout",
     "output_type": "stream",
     "text": [
      "the trapzoidal result is -8.640206159381428\n"
     ]
    }
   ],
   "source": [
    "x_points = np.linspace(1e-10, 2*np.pi, 100)\n",
    "y_points = np.sin(x_points)**2 + np.log(sin(x_points)**2)\n",
    "# y_points = np.linspace(0.15, 0.16, 100)\n",
    "I2 = trapz(y_points, x_points)\n",
    "print (\"the trapzoidal result is\", I2)"
   ],
   "metadata": {
    "collapsed": false,
    "pycharm": {
     "name": "#%%\n"
    }
   }
  },
  {
   "cell_type": "markdown",
   "source": [
    "use simpson's rule"
   ],
   "metadata": {
    "collapsed": false,
    "pycharm": {
     "name": "#%% md\n"
    }
   }
  },
  {
   "cell_type": "code",
   "execution_count": 30,
   "outputs": [
    {
     "name": "stdout",
     "output_type": "stream",
     "text": [
      "the simpson's rule -8.074723639402695\n"
     ]
    }
   ],
   "source": [
    "I3 = simps(y_points, x_points)\n",
    "print (\"the simpson's rule\", I3)"
   ],
   "metadata": {
    "collapsed": false,
    "pycharm": {
     "name": "#%%\n"
    }
   }
  },
  {
   "cell_type": "code",
   "execution_count": 31,
   "outputs": [
    {
     "name": "stdout",
     "output_type": "stream",
     "text": [
      "-43.61355583857294\n"
     ]
    }
   ],
   "source": [
    "mm = np.dot (x_points, y_points.T) / 100 * 2*np.pi\n",
    "print (mm)"
   ],
   "metadata": {
    "collapsed": false,
    "pycharm": {
     "name": "#%%\n"
    }
   }
  },
  {
   "cell_type": "markdown",
   "source": [
    "## try something interest"
   ],
   "metadata": {
    "collapsed": false,
    "pycharm": {
     "name": "#%% md\n"
    }
   }
  },
  {
   "cell_type": "code",
   "execution_count": 21,
   "outputs": [
    {
     "data": {
      "text/plain": "[<matplotlib.lines.Line2D at 0x7f8a01a869a0>]"
     },
     "execution_count": 21,
     "metadata": {},
     "output_type": "execute_result"
    },
    {
     "data": {
      "text/plain": "<Figure size 432x288 with 1 Axes>",
      "image/png": "[encoded data removed]"
     },
     "metadata": {
      "needs_background": "light"
     },
     "output_type": "display_data"
    }
   ],
   "source": [
    "x = np.arange(0, 10-0.000001, 0.000001).reshape(-1, 1)\n",
    "y = np.ones(len(x)).reshape(-1,1)\n",
    "y = y - (1-(1/2*pi))\n",
    "plt.plot(x,y)"
   ],
   "metadata": {
    "collapsed": false,
    "pycharm": {
     "name": "#%%\n"
    }
   }
  },
  {
   "cell_type": "code",
   "execution_count": 28,
   "outputs": [
    {
     "name": "stdout",
     "output_type": "stream",
     "text": [
      "[[7.09344353]]\n"
     ]
    }
   ],
   "source": [
    "L = len(y)\n",
    "first_term = ((10-0.00000001) /(L-1)) * (np.dot(y.T, np.log(y)))\n",
    "print (first_term)"
   ],
   "metadata": {
    "collapsed": false,
    "pycharm": {
     "name": "#%%\n"
    }
   }
  },
  {
   "cell_type": "code",
   "execution_count": 29,
   "outputs": [
    {
     "data": {
      "text/plain": "array([7.09344298])"
     },
     "execution_count": 29,
     "metadata": {},
     "output_type": "execute_result"
    }
   ],
   "source": [
    "f = y * np.log(y)\n",
    "trapz(f.T, x.T)"
   ],
   "metadata": {
    "collapsed": false,
    "pycharm": {
     "name": "#%%\n"
    }
   }
  },
  {
   "cell_type": "code",
   "execution_count": 31,
   "outputs": [
    {
     "data": {
      "text/plain": "0.709344454712778"
     },
     "execution_count": 31,
     "metadata": {},
     "output_type": "execute_result"
    }
   ],
   "source": [
    "(1/2*pi)*np.log((1/2*pi))"
   ],
   "metadata": {
    "collapsed": false,
    "pycharm": {
     "name": "#%%\n"
    }
   }
  },
  {
   "cell_type": "code",
   "execution_count": 32,
   "outputs": [
    {
     "name": "stdout",
     "output_type": "stream",
     "text": [
      "[[7.09344353]]\n"
     ]
    }
   ],
   "source": [
    "# 更改第一个和最后一个值\n",
    "y[0], y[-1] = 0.05, 0.05\n",
    "L = len(y)\n",
    "first_term_funny = ((10-0.00000001) /(L-1)) * (np.dot(y.T, np.log(y)))\n",
    "print (first_term_funny)"
   ],
   "metadata": {
    "collapsed": false,
    "pycharm": {
     "name": "#%%\n"
    }
   }
  },
  {
   "cell_type": "code",
   "execution_count": 33,
   "outputs": [
    {
     "data": {
      "text/plain": "array([[False]])"
     },
     "execution_count": 33,
     "metadata": {},
     "output_type": "execute_result"
    }
   ],
   "source": [
    "# the result should be ture\n",
    "first_term < first_term_funny"
   ],
   "metadata": {
    "collapsed": false,
    "pycharm": {
     "name": "#%%\n"
    }
   }
  },
  {
   "cell_type": "code",
   "execution_count": null,
   "outputs": [],
   "source": [],
   "metadata": {
    "collapsed": false,
    "pycharm": {
     "name": "#%%\n"
    }
   }
  }
 ]
}