{
 "cells": [
  {
   "cell_type": "code",
   "execution_count": 7,
   "metadata": {
    "collapsed": true
   },
   "outputs": [],
   "source": [
    "import matplotlib.pyplot as plt\n",
    "import torch\n",
    "from Net import Net\n",
    "from Data import Data\n",
    "from Train import train_free_energy, fit\n",
    "import numpy as np\n",
    "\n",
    "%matplotlib qt"
   ]
  },
  {
   "cell_type": "code",
   "execution_count": 9,
   "outputs": [
    {
     "name": "stdout",
     "output_type": "stream",
     "text": [
      "tensor([[ 1.0000e+00,  0.0000e+00],\n",
      "        [ 9.9992e-01,  1.2296e-02],\n",
      "        [ 9.9970e-01,  2.4589e-02],\n",
      "        ...,\n",
      "        [ 9.9970e-01, -2.4589e-02],\n",
      "        [ 9.9992e-01, -1.2295e-02],\n",
      "        [ 1.0000e+00,  1.7485e-07]])\n"
     ]
    }
   ],
   "source": [
    "data_set = Data(512)\n",
    "x, y = data_set.get()\n",
    "# matrix = data_set.matrix()\n",
    "input_var = data_set.input_variables()\n",
    "Layers = [1, 16, 16, 16, 16, 1]\n",
    "net = Net(Layers)\n",
    "learning_rate = 0.01\n",
    "optimizer = torch.optim.Adam(net.parameters(), lr=learning_rate)\n",
    "# print (input_var)"
   ],
   "metadata": {
    "collapsed": false,
    "pycharm": {
     "name": "#%%\n"
    }
   }
  },
  {
   "cell_type": "code",
   "execution_count": null,
   "outputs": [],
   "source": [],
   "metadata": {
    "collapsed": false,
    "pycharm": {
     "name": "#%%\n"
    }
   }
  }
 ],
 "metadata": {
  "kernelspec": {
   "display_name": "Python 3",
   "language": "python",
   "name": "python3"
  },
  "language_info": {
   "codemirror_mode": {
    "name": "ipython",
    "version": 2
   },
   "file_extension": ".py",
   "mimetype": "text/x-python",
   "name": "python",
   "nbconvert_exporter": "python",
   "pygments_lexer": "ipython2",
   "version": "2.7.6"
  }
 },
 "nbformat": 4,
 "nbformat_minor": 0
}