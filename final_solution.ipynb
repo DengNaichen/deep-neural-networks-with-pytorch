{
 "cells": [
  {
   "cell_type": "code",
   "execution_count": 1,
   "metadata": {
    "collapsed": true
   },
   "outputs": [],
   "source": [
    "import numpy as np\n",
    "from scipy import integrate\n",
    "import matplotlib.pyplot as plt\n",
    "\n",
    "%matplotlib qt"
   ]
  },
  {
   "cell_type": "markdown",
   "source": [
    "# straight line"
   ],
   "metadata": {
    "collapsed": false,
    "pycharm": {
     "name": "#%% md\n"
    }
   }
  },
  {
   "cell_type": "code",
   "execution_count": 2,
   "outputs": [],
   "source": [
    "points = 255\n",
    "x = np.linspace(0.000001, 2*np.pi, points, endpoint=False).reshape(-1,1)\n",
    "line1 = np.ones(len(x)) - (1-(1/(2*np.pi)))\n",
    "line1 = line1.reshape(points,1)\n",
    "line2 = line1.copy()\n",
    "line2[0] = 0.05\n",
    "line2[-1] = 0.05\n",
    "\n",
    "y1 = np.sin(x)**2 / (np.pi)\n",
    "y2 = np.cos(x)**2 / (np.pi)\n",
    "\n",
    "def matrix(x):\n",
    "    matrics = np.zeros([len(x), len(x)])\n",
    "    for i in range(len(x)):\n",
    "        for j in range(len(x)):\n",
    "            matrics[i][j] = np.abs(np.sin(x[i] - x[j]))\n",
    "    return matrics\n",
    "\n",
    "matrix = matrix(x)\n",
    "\n"
   ],
   "metadata": {
    "collapsed": false,
    "pycharm": {
     "name": "#%%\n"
    }
   }
  },
  {
   "cell_type": "markdown",
   "source": [
    "simpson matrix"
   ],
   "metadata": {
    "collapsed": false,
    "pycharm": {
     "name": "#%% md\n"
    }
   }
  },
  {
   "cell_type": "code",
   "execution_count": 3,
   "outputs": [],
   "source": [
    "simpson_matrix = np.zeros(len(x))\n",
    "for i in range (len(x)):\n",
    "    if i%2 == 0:\n",
    "        simpson_matrix[i] = 2\n",
    "    if i%2 != 0:\n",
    "        simpson_matrix[i] = 4\n",
    "simpson_matrix[0], simpson_matrix[-1] = 1, 1\n",
    "simpson_matrix = simpson_matrix.reshape(1, -1)\n"
   ],
   "metadata": {
    "collapsed": false,
    "pycharm": {
     "name": "#%%\n"
    }
   }
  },
  {
   "cell_type": "code",
   "execution_count": 4,
   "outputs": [],
   "source": [
    "def new_loss (yhat, rho, simpson_matrix, matrix, lambd):\n",
    "    f1 = np.dot(yhat, yhat.T) * matrix\n",
    "    dx = x[1] - x[0]\n",
    "    first_term = (dx/3) * np.dot(simpson_matrix,yhat * np.log(rho * yhat))\n",
    "    second_term = (rho/2) * (dx/3)**2 * np.dot(np.dot(simpson_matrix, f1), simpson_matrix.T)\n",
    "    third_term = lambd * (((dx/3) *(np.dot(simpson_matrix,yhat))) - 1 ) **2\n",
    "    loss = first_term + second_term + third_term\n",
    "    return first_term, second_term, third_term, loss"
   ],
   "metadata": {
    "collapsed": false,
    "pycharm": {
     "name": "#%%\n"
    }
   }
  },
  {
   "cell_type": "code",
   "execution_count": 5,
   "outputs": [
    {
     "data": {
      "text/plain": "(array([[-0.73636558]]),\n array([[0.94741983]]),\n array([[0.00307599]]),\n array([[0.21413024]]))"
     },
     "execution_count": 5,
     "metadata": {},
     "output_type": "execute_result"
    }
   ],
   "source": [
    "new_loss(line1, 3, simpson_matrix, matrix, 200)"
   ],
   "metadata": {
    "collapsed": false,
    "pycharm": {
     "name": "#%%\n"
    }
   }
  },
  {
   "cell_type": "code",
   "execution_count": 239,
   "outputs": [
    {
     "data": {
      "text/plain": "(array([[-0.45137475]]),\n array([[1.27138238]]),\n array([[0.00010633]]),\n array([[0.82011395]]))"
     },
     "execution_count": 239,
     "metadata": {},
     "output_type": "execute_result"
    }
   ],
   "source": [
    "new_loss(line2, 4, simpson_matrix, matrix, 200)"
   ],
   "metadata": {
    "collapsed": false,
    "pycharm": {
     "name": "#%%\n"
    }
   }
  },
  {
   "cell_type": "code",
   "execution_count": 240,
   "outputs": [
    {
     "data": {
      "text/plain": "(array([[0.26073526]]),\n array([[1.59154843]]),\n array([[2.17113554e-15]]),\n array([[1.85228369]]))"
     },
     "execution_count": 240,
     "metadata": {},
     "output_type": "execute_result"
    }
   ],
   "source": [
    "new_loss(y1, 6, simpson_matrix, matrix, 200)"
   ],
   "metadata": {
    "collapsed": false,
    "pycharm": {
     "name": "#%%\n"
    }
   }
  },
  {
   "cell_type": "code",
   "execution_count": 243,
   "outputs": [
    {
     "data": {
      "text/plain": "(array([[0.26008767]]),\n array([[1.58899989]]),\n array([[0.00020033]]),\n array([[1.84928788]]))"
     },
     "execution_count": 243,
     "metadata": {},
     "output_type": "execute_result"
    }
   ],
   "source": [
    "new_loss(y2, 6, simpson_matrix, matrix, 200)"
   ],
   "metadata": {
    "collapsed": false,
    "pycharm": {
     "name": "#%%\n"
    }
   }
  },
  {
   "cell_type": "code",
   "execution_count": 234,
   "outputs": [
    {
     "data": {
      "text/plain": "array([[0.5]])"
     },
     "execution_count": 234,
     "metadata": {},
     "output_type": "execute_result"
    }
   ],
   "source": [
    "dx = x[1] - x[0]\n",
    "(dx/3) *(np.dot(simpson_matrix,y1))\n"
   ],
   "metadata": {
    "collapsed": false,
    "pycharm": {
     "name": "#%%\n"
    }
   }
  },
  {
   "cell_type": "code",
   "execution_count": null,
   "outputs": [],
   "source": [],
   "metadata": {
    "collapsed": false,
    "pycharm": {
     "name": "#%%\n"
    }
   }
  }
 ],
 "metadata": {
  "kernelspec": {
   "display_name": "Python 3",
   "language": "python",
   "name": "python3"
  },
  "language_info": {
   "codemirror_mode": {
    "name": "ipython",
    "version": 2
   },
   "file_extension": ".py",
   "mimetype": "text/x-python",
   "name": "python",
   "nbconvert_exporter": "python",
   "pygments_lexer": "ipython2",
   "version": "2.7.6"
  }
 },
 "nbformat": 4,
 "nbformat_minor": 0
}