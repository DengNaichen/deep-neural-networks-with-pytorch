{
 "metadata": {
  "language_info": {
   "codemirror_mode": {
    "name": "ipython",
    "version": 3
   },
   "file_extension": ".py",
   "mimetype": "text/x-python",
   "name": "python",
   "nbconvert_exporter": "python",
   "pygments_lexer": "ipython3",
   "version": "3.8.5-final"
  },
  "orig_nbformat": 2,
  "kernelspec": {
   "name": "python_defaultSpec_1600820266143",
   "display_name": "Python 3.8.5 64-bit ('py38': conda)"
  }
 },
 "nbformat": 4,
 "nbformat_minor": 2,
 "cells": [
  {
   "cell_type": "code",
   "execution_count": 2,
   "metadata": {},
   "outputs": [],
   "source": [
    "import torch\n",
    "import numpy as np\n",
    "import matplotlib.pyplot as plt\n",
    "import pandas as pd"
   ]
  },
  {
   "source": [
    "## prediction"
   ],
   "cell_type": "markdown",
   "metadata": {}
  },
  {
   "cell_type": "code",
   "execution_count": 4,
   "metadata": {
    "tags": []
   },
   "outputs": [
    {
     "output_type": "stream",
     "name": "stdout",
     "text": "tensor(2., requires_grad=True) tensor(-1., requires_grad=True)\n"
    }
   ],
   "source": [
    "w = torch.tensor(2.0, requires_grad = True )\n",
    "b = torch.tensor(-1.0, requires_grad = True )\n",
    "print (w,b)"
   ]
  },
  {
   "cell_type": "code",
   "execution_count": 5,
   "metadata": {},
   "outputs": [],
   "source": [
    "def forward(x):\n",
    "    yhat = w*x +b\n",
    "    return yhat"
   ]
  },
  {
   "cell_type": "code",
   "execution_count": 6,
   "metadata": {
    "tags": []
   },
   "outputs": [
    {
     "output_type": "stream",
     "name": "stdout",
     "text": "tensor([1.], grad_fn=<AddBackward0>)\n"
    }
   ],
   "source": [
    "x = torch.tensor([1.0])\n",
    "yhat = forward(x)\n",
    "print (yhat)"
   ]
  },
  {
   "cell_type": "code",
   "execution_count": 13,
   "metadata": {
    "tags": []
   },
   "outputs": [
    {
     "output_type": "stream",
     "name": "stdout",
     "text": "tensor([[1.],\n        [2.]])\ntorch.Size([2, 1])\n"
    }
   ],
   "source": [
    "x = torch.tensor([[1.0],[2.0]])\n",
    "print (x)\n",
    "print (x.shape)"
   ]
  },
  {
   "cell_type": "code",
   "execution_count": 14,
   "metadata": {
    "tags": []
   },
   "outputs": [
    {
     "output_type": "stream",
     "name": "stdout",
     "text": "tensor([[1.],\n        [3.]], grad_fn=<AddBackward0>)\ntorch.Size([2, 1])\n"
    }
   ],
   "source": [
    "yhat = forward(x)\n",
    "print (yhat)\n",
    "print (yhat.shape)"
   ]
  },
  {
   "source": [
    "## class linear"
   ],
   "cell_type": "markdown",
   "metadata": {}
  },
  {
   "cell_type": "code",
   "execution_count": 15,
   "metadata": {},
   "outputs": [],
   "source": [
    "from torch.nn import Linear"
   ]
  },
  {
   "cell_type": "code",
   "execution_count": 25,
   "metadata": {
    "tags": []
   },
   "outputs": [
    {
     "output_type": "stream",
     "name": "stdout",
     "text": "[Parameter containing:\ntensor([[-0.0044],\n        [ 0.6543]], requires_grad=True), Parameter containing:\ntensor([0.6912, 0.5799], requires_grad=True)]\n"
    }
   ],
   "source": [
    "lr = Linear(in_features=1, out_features=2, bias=True)\n",
    "print (list(lr.parameters()))"
   ]
  },
  {
   "source": [
    "**in_features** – size of each input sample\n",
    "\n",
    "**out_features** – size of each output sample\n",
    "\n",
    "**bias** – If set to False, the layer will not learn an additive bias. Default: True"
   ],
   "cell_type": "markdown",
   "metadata": {}
  },
  {
   "cell_type": "code",
   "execution_count": 24,
   "metadata": {
    "tags": []
   },
   "outputs": [
    {
     "output_type": "stream",
     "name": "stdout",
     "text": "[Parameter containing:\ntensor([[0.1426, 0.2676, 0.4319, 0.3374]], requires_grad=True), Parameter containing:\ntensor([-0.3052], requires_grad=True)]\n"
    }
   ],
   "source": [
    "lr = Linear(in_features=4, out_features=1, bias=True)\n",
    "print (list(lr.parameters()))"
   ]
  },
  {
   "cell_type": "code",
   "execution_count": null,
   "metadata": {},
   "outputs": [],
   "source": []
  }
 ]
}