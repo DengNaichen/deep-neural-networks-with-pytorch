{
 "cells": [
  {
   "cell_type": "code",
   "execution_count": 56,
   "metadata": {
    "collapsed": true
   },
   "outputs": [],
   "source": [
    "import numpy as np\n",
    "from scipy import integrate\n",
    "import matplotlib.pyplot as plt\n",
    "\n",
    "%matplotlib qt"
   ]
  },
  {
   "cell_type": "code",
   "execution_count": 2,
   "outputs": [],
   "source": [
    "points = 1000\n",
    "x = np.linspace(0.000001, 2*np.pi, points, endpoint=False).reshape(points,1)\n",
    "y1 = np.sin(x)**2\n",
    "y2 = np.cos(x)**2"
   ],
   "metadata": {
    "collapsed": false,
    "pycharm": {
     "name": "#%%\n"
    }
   }
  },
  {
   "cell_type": "code",
   "execution_count": 3,
   "outputs": [],
   "source": [
    "def matrix(x):\n",
    "    matrics = np.zeros([len(x), len(x)])\n",
    "    for i in range(len(x)):\n",
    "        for j in range(len(x)):\n",
    "            matrics[i][j] = np.abs(np.sin(x[i] - x[j]))\n",
    "    return matrics"
   ],
   "metadata": {
    "collapsed": false,
    "pycharm": {
     "name": "#%%\n"
    }
   }
  },
  {
   "cell_type": "code",
   "execution_count": 4,
   "outputs": [],
   "source": [
    "matrix = matrix(x)"
   ],
   "metadata": {
    "collapsed": false,
    "pycharm": {
     "name": "#%%\n"
    }
   }
  },
  {
   "cell_type": "code",
   "execution_count": 82,
   "outputs": [],
   "source": [
    "def free_energy(yhat, x, matrix, rho, lambd):\n",
    "    L = len(yhat)\n",
    "    first_term = (2 * np.pi / (L)) * (np.dot(yhat.T, np.log(rho * yhat)))\n",
    "    first_term = np.abs(integrate.trapz((yhat*np.log(rho*yhat)).T, x.T))\n",
    "    second_term = (2 * np.pi ** 2 * rho / (L) ** 2) * np.dot(np.dot(yhat.T, matrix), yhat)\n",
    "    third_term = lambd * integrate.trapz(integrate.simps(yhat.T, x.T) - 1)\n",
    "    loss = first_term \\\n",
    "           + second_term \\\n",
    "           + third_term\n",
    "    return first_term, second_term,third_term,loss"
   ],
   "metadata": {
    "collapsed": false,
    "pycharm": {
     "name": "#%%\n"
    }
   }
  },
  {
   "cell_type": "code",
   "execution_count": 83,
   "outputs": [
    {
     "name": "stdout",
     "output_type": "stream",
     "text": [
      "this is the result of sin\n"
     ]
    },
    {
     "data": {
      "text/plain": "(array([4.41539995]), array([[15.70787527]]), 0.0, array([[20.12327523]]))"
     },
     "execution_count": 83,
     "metadata": {},
     "output_type": "execute_result"
    }
   ],
   "source": [
    "print (\"this is the result of sin\")\n",
    "free_energy(y1,x,matrix,6,20)"
   ],
   "metadata": {
    "collapsed": false,
    "pycharm": {
     "name": "#%% try sin\n"
    }
   }
  },
  {
   "cell_type": "code",
   "execution_count": 84,
   "outputs": [
    {
     "name": "stdout",
     "output_type": "stream",
     "text": [
      "this is the result of cos\n"
     ]
    },
    {
     "data": {
      "text/plain": "(array([4.40413952]), array([[15.70786727]]), 0.0, array([[20.11200679]]))"
     },
     "execution_count": 84,
     "metadata": {},
     "output_type": "execute_result"
    }
   ],
   "source": [
    "print (\"this is the result of cos\")\n",
    "free_energy(y2,x,matrix,6,20)"
   ],
   "metadata": {
    "collapsed": false,
    "pycharm": {
     "name": "#%%\n"
    }
   }
  },
  {
   "cell_type": "markdown",
   "source": [
    "### 验证直线项"
   ],
   "metadata": {
    "collapsed": false,
    "pycharm": {
     "name": "#%% md\n"
    }
   }
  },
  {
   "cell_type": "code",
   "execution_count": 85,
   "outputs": [],
   "source": [
    "line1 = np.ones(len(x)) - (1-(1/(2*np.pi)))\n",
    "line1 = line1.reshape(points,1)\n",
    "line2 = line1.copy()\n",
    "line2[0] = 0.05\n",
    "line2[-1] = 0.05"
   ],
   "metadata": {
    "collapsed": false,
    "pycharm": {
     "name": "#%%\n"
    }
   }
  },
  {
   "cell_type": "markdown",
   "source": [
    "integral of lines"
   ],
   "metadata": {
    "collapsed": false,
    "pycharm": {
     "name": "#%% md\n"
    }
   }
  },
  {
   "cell_type": "code",
   "execution_count": 86,
   "outputs": [
    {
     "data": {
      "text/plain": "array([0.99899984])"
     },
     "execution_count": 86,
     "metadata": {},
     "output_type": "execute_result"
    }
   ],
   "source": [
    "integrate.trapz(line1.T, x.T)"
   ],
   "metadata": {
    "collapsed": false,
    "pycharm": {
     "name": "#%%\n"
    }
   }
  },
  {
   "cell_type": "code",
   "execution_count": 87,
   "outputs": [
    {
     "data": {
      "text/plain": "(array([2.21822525e-16]), array([[1.99999342]]), 0.0, array([[1.99999342]]))"
     },
     "execution_count": 87,
     "metadata": {},
     "output_type": "execute_result"
    }
   ],
   "source": [
    "free_energy(line1, x, matrix, 2*np.pi, 20)"
   ],
   "metadata": {
    "collapsed": false,
    "pycharm": {
     "name": "#%%\n"
    }
   }
  },
  {
   "cell_type": "code",
   "execution_count": 88,
   "outputs": [
    {
     "data": {
      "text/plain": "(array([0.00036375]), array([[1.99450673]]), 0.0, array([[1.99487048]]))"
     },
     "execution_count": 88,
     "metadata": {},
     "output_type": "execute_result"
    }
   ],
   "source": [
    "free_energy(line2, x, matrix, 2*np.pi, 20)"
   ],
   "metadata": {
    "collapsed": false,
    "pycharm": {
     "name": "#%%\n"
    }
   }
  },
  {
   "cell_type": "markdown",
   "source": [
    "画出交点\n",
    "1. 第一项和积分的值有关，积分越接近1， 误差越小，可以先尝试，画出横轴是积分值， 纵轴是lost"
   ],
   "metadata": {
    "collapsed": false,
    "pycharm": {
     "name": "#%% md\n"
    }
   }
  },
  {
   "cell_type": "code",
   "execution_count": 60,
   "outputs": [],
   "source": [
    "vec1 = np.arange(2*np.pi, 7, 0.01)\n",
    "integral1 = []\n",
    "diff_points = []\n",
    "for i in vec1:\n",
    "    line1 = np.ones(len(x)) - (1-(1/(i)))\n",
    "    line1 = line1.reshape(points,1)\n",
    "    line2 = line1.copy()\n",
    "    line2[0] = 0.05\n",
    "    line2[-1] = 0.05\n",
    "    integral1.append(integrate.trapz(line1.T, x.T))\n",
    "    first1, _, _, _ = free_energy(line1, x, matrix, 4, 20)\n",
    "    first2, _, _, _ = free_energy(line2, x, matrix, 4, 20)\n",
    "    diff = first1 - first2\n",
    "    diff_points.append(diff)"
   ],
   "metadata": {
    "collapsed": false,
    "pycharm": {
     "name": "#%%\n"
    }
   }
  },
  {
   "cell_type": "code",
   "execution_count": 63,
   "outputs": [
    {
     "data": {
      "text/plain": "[<matplotlib.lines.Line2D at 0x7fc380be6400>]"
     },
     "execution_count": 63,
     "metadata": {},
     "output_type": "execute_result"
    }
   ],
   "source": [
    "plt.plot(integral1, diff_points)\n",
    "# plt.plot(x, line1)"
   ],
   "metadata": {
    "collapsed": false,
    "pycharm": {
     "name": "#%%\n"
    }
   }
  },
  {
   "cell_type": "code",
   "execution_count": null,
   "outputs": [],
   "source": [],
   "metadata": {
    "collapsed": false,
    "pycharm": {
     "name": "#%%\n"
    }
   }
  }
 ],
 "metadata": {
  "kernelspec": {
   "display_name": "Python 3",
   "language": "python",
   "name": "python3"
  },
  "language_info": {
   "codemirror_mode": {
    "name": "ipython",
    "version": 2
   },
   "file_extension": ".py",
   "mimetype": "text/x-python",
   "name": "python",
   "nbconvert_exporter": "python",
   "pygments_lexer": "ipython2",
   "version": "2.7.6"
  }
 },
 "nbformat": 4,
 "nbformat_minor": 0
}