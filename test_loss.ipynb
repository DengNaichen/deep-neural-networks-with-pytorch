{
 "cells": [
  {
   "cell_type": "code",
   "execution_count": 68,
   "metadata": {
    "collapsed": true
   },
   "outputs": [],
   "source": [
    "import numpy as np\n",
    "from scipy import integrate\n",
    "import matplotlib.pyplot as plt\n",
    "\n",
    "%matplotlib qt"
   ]
  },
  {
   "cell_type": "code",
   "execution_count": 69,
   "outputs": [],
   "source": [
    "points = 1000\n",
    "x = np.linspace(0.000001, 2*np.pi, points, endpoint=False).reshape(points,1)\n",
    "y1 = np.sin(x)**2\n",
    "y2 = np.cos(x)**2"
   ],
   "metadata": {
    "collapsed": false,
    "pycharm": {
     "name": "#%%\n"
    }
   }
  },
  {
   "cell_type": "code",
   "execution_count": 70,
   "outputs": [],
   "source": [
    "def matrix(x):\n",
    "    matrics = np.zeros([len(x), len(x)])\n",
    "    for i in range(len(x)):\n",
    "        for j in range(len(x)):\n",
    "            matrics[i][j] = np.abs(np.sin(x[i] - x[j]))\n",
    "    return matrics"
   ],
   "metadata": {
    "collapsed": false,
    "pycharm": {
     "name": "#%%\n"
    }
   }
  },
  {
   "cell_type": "code",
   "execution_count": 71,
   "outputs": [
    {
     "name": "stdout",
     "output_type": "stream",
     "text": [
      "[[0.         0.00628314 0.01256604 ... 0.01884944 0.01256704 0.00628414]\n",
      " [0.00628314 0.         0.00628314 ... 0.02513109 0.01884944 0.01256704]\n",
      " [0.01256604 0.00628314 0.         ... 0.03141175 0.02513109 0.01884944]\n",
      " ...\n",
      " [0.01884944 0.02513109 0.03141175 ... 0.         0.00628314 0.01256604]\n",
      " [0.01256704 0.01884944 0.02513109 ... 0.00628314 0.         0.00628314]\n",
      " [0.00628414 0.01256704 0.01884944 ... 0.01256604 0.00628314 0.        ]]\n"
     ]
    }
   ],
   "source": [
    "matrix = matrix(x)\n",
    "print (matrix)"
   ],
   "metadata": {
    "collapsed": false,
    "pycharm": {
     "name": "#%%\n"
    }
   }
  },
  {
   "cell_type": "code",
   "execution_count": 72,
   "outputs": [],
   "source": [
    "def free_energy(yhat, x, matrix, rho, lambd):\n",
    "    L = len(yhat)\n",
    "    dx = x[1] - x[0]\n",
    "    # first_term = (2 * np.pi / (L)) * (np.dot(yhat.T, np.log(rho * yha t)))  # 虽说前面的系数其实是有影响的， 但是单就这一项而言\n",
    "    # 他只是一个系数， 影响其实没有那么大。\n",
    "    first_term = integrate.simps((yhat*np.log(rho*yhat)).T, x.T)\n",
    "    #try simpson rule by myself\n",
    "    # first_term = (3/dx) * (yhat[0] + yhat[-1]) +\n",
    "    second_term = (2 * np.pi ** 2 * rho / (L) ** 2) * np.dot(np.dot(yhat.T, matrix), yhat)\n",
    "    third_term = lambd * integrate.trapz(integrate.simps(yhat.T, x.T) - 1)\n",
    "    loss = first_term \\\n",
    "           + second_term \\\n",
    "           + third_term\n",
    "    return first_term, second_term,third_term,loss"
   ],
   "metadata": {
    "collapsed": false,
    "pycharm": {
     "name": "#%%\n"
    }
   }
  },
  {
   "cell_type": "code",
   "execution_count": 73,
   "outputs": [
    {
     "name": "stdout",
     "output_type": "stream",
     "text": [
      "this is the result of sin\n"
     ]
    },
    {
     "data": {
      "text/plain": "(array([4.41539938]), array([[15.70787527]]), 0.0, array([[20.12327465]]))"
     },
     "execution_count": 73,
     "metadata": {},
     "output_type": "execute_result"
    }
   ],
   "source": [
    "print (\"this is the result of sin\")\n",
    "free_energy(y1,x,matrix,6,20)"
   ],
   "metadata": {
    "collapsed": false,
    "pycharm": {
     "name": "#%% try sin\n"
    }
   }
  },
  {
   "cell_type": "code",
   "execution_count": 74,
   "outputs": [
    {
     "name": "stdout",
     "output_type": "stream",
     "text": [
      "this is the result of cos\n"
     ]
    },
    {
     "data": {
      "text/plain": "(array([4.40413929]), array([[15.70786727]]), 0.0, array([[20.11200656]]))"
     },
     "execution_count": 74,
     "metadata": {},
     "output_type": "execute_result"
    }
   ],
   "source": [
    "print (\"this is the result of cos\")\n",
    "free_energy(y2,x,matrix,6,20)"
   ],
   "metadata": {
    "collapsed": false,
    "pycharm": {
     "name": "#%%\n"
    }
   }
  },
  {
   "cell_type": "markdown",
   "source": [
    "### 验证直线项"
   ],
   "metadata": {
    "collapsed": false,
    "pycharm": {
     "name": "#%% md\n"
    }
   }
  },
  {
   "cell_type": "code",
   "execution_count": 75,
   "outputs": [],
   "source": [
    "line1 = np.ones(len(x)) - (1-(1/(2*np.pi)))\n",
    "line1 = line1.reshape(points,1)\n",
    "line2 = line1.copy()\n",
    "line2[0] = 0.05\n",
    "line2[-1] = 0.05\n",
    "\n",
    "# the line2 is modified result, which is the two end points are lower"
   ],
   "metadata": {
    "collapsed": false,
    "pycharm": {
     "name": "#%%\n"
    }
   }
  },
  {
   "cell_type": "markdown",
   "source": [
    "integral of lines"
   ],
   "metadata": {
    "collapsed": false,
    "pycharm": {
     "name": "#%% md\n"
    }
   }
  },
  {
   "cell_type": "code",
   "execution_count": 76,
   "outputs": [
    {
     "data": {
      "text/plain": "array([0.99899984])"
     },
     "execution_count": 76,
     "metadata": {},
     "output_type": "execute_result"
    }
   ],
   "source": [
    "integrate.trapz(line1.T, x.T)"
   ],
   "metadata": {
    "collapsed": false,
    "pycharm": {
     "name": "#%%\n"
    }
   }
  },
  {
   "cell_type": "code",
   "execution_count": 77,
   "outputs": [
    {
     "data": {
      "text/plain": "(array([-0.45113105]), array([[1.27323536]]), 0.0, array([[0.82210431]]))"
     },
     "execution_count": 77,
     "metadata": {},
     "output_type": "execute_result"
    }
   ],
   "source": [
    "free_energy(line1, x, matrix, 4, 20)"
   ],
   "metadata": {
    "collapsed": false,
    "pycharm": {
     "name": "#%%\n"
    }
   }
  },
  {
   "cell_type": "code",
   "execution_count": 79,
   "outputs": [
    {
     "data": {
      "text/plain": "(array([-0.45117608]), array([[1.26974242]]), 0.0, array([[0.81856634]]))"
     },
     "execution_count": 79,
     "metadata": {},
     "output_type": "execute_result"
    }
   ],
   "source": [
    "free_energy(line2, x, matrix, 4, 20)"
   ],
   "metadata": {
    "collapsed": false,
    "pycharm": {
     "name": "#%%\n"
    }
   }
  },
  {
   "cell_type": "markdown",
   "source": [
    "第一项的解决方法\n",
    "1. 第一项和积分的值有关，积分越接近1， 误差越小\n",
    "2. 有时， 两个端点的问题，会造成熵为负值，但是香农熵其实始终是正直，所以我们可以加上abs来搞"
   ],
   "metadata": {
    "collapsed": false,
    "pycharm": {
     "name": "#%% md\n"
    }
   }
  },
  {
   "cell_type": "markdown",
   "source": [
    "第二项的解决方法：\n",
    "\n"
   ],
   "metadata": {
    "collapsed": false,
    "pycharm": {
     "name": "#%% md\n"
    }
   }
  },
  {
   "cell_type": "code",
   "execution_count": 51,
   "outputs": [
    {
     "data": {
      "text/plain": "array([[16093.51854502]])"
     },
     "execution_count": 51,
     "metadata": {},
     "output_type": "execute_result"
    }
   ],
   "source": [
    "np.dot(np.dot(line1.T, matrix), line1)"
   ],
   "metadata": {
    "collapsed": false,
    "pycharm": {
     "name": "#%%\n"
    }
   }
  },
  {
   "cell_type": "code",
   "execution_count": 52,
   "outputs": [
    {
     "data": {
      "text/plain": "array([[16049.32413103]])"
     },
     "execution_count": 52,
     "metadata": {},
     "output_type": "execute_result"
    }
   ],
   "source": [
    "np.dot(np.dot(line2.T, matrix), line2)"
   ],
   "metadata": {
    "collapsed": false,
    "pycharm": {
     "name": "#%%\n"
    }
   }
  },
  {
   "cell_type": "code",
   "execution_count": 53,
   "outputs": [],
   "source": [
    "#试着自己写一个simpson rule\n",
    "test_y = np.sin(x)**2\n",
    "# plt.plot(x,test_y)"
   ],
   "metadata": {
    "collapsed": false,
    "pycharm": {
     "name": "#%%\n"
    }
   }
  },
  {
   "cell_type": "code",
   "execution_count": 54,
   "outputs": [],
   "source": [
    "# simpson matrix\n",
    "dx = x[1] - x[0]\n",
    "simpson_matrix = np.zeros(len(x))\n",
    "for i in range (len(x)):\n",
    "    if i%2 == 0:\n",
    "        simpson_matrix[i] = 2\n",
    "    if i%2 != 0:\n",
    "        simpson_matrix[i] = 4\n",
    "simpson_matrix[0], simpson_matrix[-1] = 1, 1"
   ],
   "metadata": {
    "collapsed": false,
    "pycharm": {
     "name": "#%%\n"
    }
   }
  },
  {
   "cell_type": "code",
   "execution_count": 55,
   "outputs": [
    {
     "name": "stdout",
     "output_type": "stream",
     "text": [
      "[3.14159257]\n"
     ]
    }
   ],
   "source": [
    "I = (dx/3) * np.dot(simpson_matrix, test_y)\n",
    "print (I)   # x 最好有奇数个"
   ],
   "metadata": {
    "collapsed": false,
    "pycharm": {
     "name": "#%%\n"
    }
   }
  },
  {
   "cell_type": "code",
   "execution_count": 56,
   "outputs": [],
   "source": [
    "def first_term(yhat, simpson_matrix, rho):\n",
    "    I = (dx/3) * np.dot(simpson_matrix,yhat * np.log(rho * yhat))\n",
    "    return I"
   ],
   "metadata": {
    "collapsed": false,
    "pycharm": {
     "name": "#%%\n"
    }
   }
  },
  {
   "cell_type": "code",
   "execution_count": 57,
   "outputs": [
    {
     "data": {
      "text/plain": "array([-0.4511306])"
     },
     "execution_count": 57,
     "metadata": {},
     "output_type": "execute_result"
    }
   ],
   "source": [
    "first_term(line1,simpson_matrix, 4)"
   ],
   "metadata": {
    "collapsed": false,
    "pycharm": {
     "name": "#%%\n"
    }
   }
  },
  {
   "cell_type": "code",
   "execution_count": null,
   "outputs": [],
   "source": [],
   "metadata": {
    "collapsed": false,
    "pycharm": {
     "name": "#%%\n"
    }
   }
  }
 ],
 "metadata": {
  "kernelspec": {
   "display_name": "Python 3",
   "language": "python",
   "name": "python3"
  },
  "language_info": {
   "codemirror_mode": {
    "name": "ipython",
    "version": 2
   },
   "file_extension": ".py",
   "mimetype": "text/x-python",
   "name": "python",
   "nbconvert_exporter": "python",
   "pygments_lexer": "ipython2",
   "version": "2.7.6"
  }
 },
 "nbformat": 4,
 "nbformat_minor": 0
}