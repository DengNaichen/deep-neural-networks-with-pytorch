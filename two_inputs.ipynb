{
 "cells": [
  {
   "cell_type": "code",
   "execution_count": 7,
   "metadata": {
    "collapsed": true
   },
   "outputs": [],
   "source": [
    "import matplotlib.pyplot as plt\n",
    "import torch\n",
    "from Net import Net\n",
    "from Data import Data\n",
    "from Train import train_free_energy, fit, train_free_energy_two_inputs\n",
    "import numpy as np\n",
    "from scipy import integrate\n",
    "import pandas as pd\n",
    "from mpl_toolkits.mplot3d import Axes3D\n",
    "torch.manual_seed(5)\n",
    "\n",
    "%matplotlib qt"
   ]
  },
  {
   "cell_type": "markdown",
   "source": [
    "#### Make some data"
   ],
   "metadata": {
    "collapsed": false,
    "pycharm": {
     "name": "#%% md\n"
    }
   }
  },
  {
   "cell_type": "code",
   "execution_count": 3,
   "outputs": [],
   "source": [
    "data_set = Data(256)\n",
    "x, y = data_set.get()\n",
    "matrix = data_set.matrix()\n",
    "input_var = data_set.input_variables()"
   ],
   "metadata": {
    "collapsed": false,
    "pycharm": {
     "name": "#%%\n"
    }
   }
  },
  {
   "cell_type": "markdown",
   "source": [
    "#### Implement neural network, optimizer and scheduler"
   ],
   "metadata": {
    "collapsed": false,
    "pycharm": {
     "name": "#%% md\n"
    }
   }
  },
  {
   "cell_type": "markdown",
   "source": [
    "#### Learning rate decay"
   ],
   "metadata": {
    "collapsed": false
   }
  },
  {
   "cell_type": "code",
   "execution_count": 4,
   "outputs": [],
   "source": [
    "Layers = [2, 16, 16, 16, 16, 16, 16, 1]\n",
    "net = Net(Layers)\n",
    "learning_rate = 0.02\n",
    "optimizer = torch.optim.Adam(net.parameters(), lr=learning_rate)\n",
    "scheduler = torch.optim.lr_scheduler.StepLR(optimizer, step_size=1000, gamma=0.9)"
   ],
   "metadata": {
    "collapsed": false,
    "pycharm": {
     "name": "#%%\n"
    }
   }
  },
  {
   "cell_type": "markdown",
   "source": [
    "#### An example"
   ],
   "metadata": {
    "collapsed": false,
    "pycharm": {
     "name": "#%% md\n"
    }
   }
  },
  {
   "cell_type": "code",
   "execution_count": 8,
   "outputs": [],
   "source": [
    "rho = 4.5\n",
    "lambd = 25\n",
    "net = train_free_energy_two_inputs(net, x, input_var, rho, lambd, scheduler,\n",
    "                                   optimizer, matrix, epochs=500, diagram=True)"
   ],
   "metadata": {
    "collapsed": false,
    "pycharm": {
     "name": "#%%\n"
    }
   }
  },
  {
   "cell_type": "markdown",
   "source": [
    "#### Pre-train can make the cost curve more obvious"
   ],
   "metadata": {
    "collapsed": false,
    "pycharm": {
     "name": "#%% md\n"
    }
   }
  },
  {
   "cell_type": "code",
   "execution_count": 13,
   "outputs": [],
   "source": [
    "net_dict_prev = {}\n",
    "rho_list = np.linspace(4, 6, 15)\n",
    "for i in range (len(rho_list)):\n",
    "    rho = rho_list[i]\n",
    "    net = Net(Layers)\n",
    "    learning_rate = 0.015\n",
    "    optimizer = torch.optim.Adam(net.parameters(), lr=learning_rate)\n",
    "    scheduler = torch.optim.lr_scheduler.StepLR(optimizer, step_size=1000, gamma=0.9)\n",
    "    lambd = 15\n",
    "    net_dict_prev[\"rho=\" + str(i)] = train_free_energy_two_inputs(net, x,  input_var, rho, lambd, scheduler,\n",
    "                                       optimizer, matrix, epochs=500, diagram=False)"
   ],
   "metadata": {
    "collapsed": false,
    "pycharm": {
     "name": "#%%rho_list = np.linspace(4, 6, 15)\n"
    }
   }
  },
  {
   "cell_type": "code",
   "execution_count": 14,
   "outputs": [],
   "source": [
    "rho_list = np.linspace(4, 6, 15)\n",
    "net_dict = {}\n",
    "output_list = {}\n",
    "i = 0\n",
    "for rho in rho_list:\n",
    "    net = net_dict_prev[\"rho=\" + str(i)]\n",
    "    learning_rate = 0.02\n",
    "    optimizer = torch.optim.Adam(net.parameters(), lr=learning_rate)\n",
    "    scheduler = torch.optim.lr_scheduler.StepLR(optimizer, step_size=1000, gamma=0.9)\n",
    "    lambd = 15\n",
    "    net_dict[\"rho=\" + str(i)] = train_free_energy_two_inputs(net, x,  input_var, rho, lambd, scheduler,\n",
    "                                       optimizer, matrix, epochs=2000, diagram=True)\n",
    "    output_list[\"rho=\" + str(i)] = net_dict[\"rho=\" + str(i)](input_var).data.numpy()\n",
    "    i+= 1"
   ],
   "metadata": {
    "collapsed": false,
    "pycharm": {
     "name": "#%%\n"
    }
   }
  },
  {
   "cell_type": "code",
   "execution_count": 11,
   "outputs": [],
   "source": [
    "#这太蠢了\n",
    "height = np.concatenate([output_list[\"rho=\" + str(0)],\n",
    "                         output_list[\"rho=\" + str(1)],\n",
    "                         output_list[\"rho=\" + str(2)],\n",
    "                         output_list[\"rho=\" + str(3)],\n",
    "                         output_list[\"rho=\" + str(4)],\n",
    "                         output_list[\"rho=\" + str(5)],\n",
    "                         output_list[\"rho=\" + str(6)],\n",
    "                         output_list[\"rho=\" + str(7)],\n",
    "                         output_list[\"rho=\" + str(8)],\n",
    "                         output_list[\"rho=\" + str(9)],\n",
    "                         output_list[\"rho=\" + str(10)],\n",
    "                         output_list[\"rho=\" + str(11)],\n",
    "                         output_list[\"rho=\" + str(12)],\n",
    "                         output_list[\"rho=\" + str(13)],\n",
    "                         output_list[\"rho=\" + str(14)]],\n",
    "                        axis= 1 )"
   ],
   "metadata": {
    "collapsed": false,
    "pycharm": {
     "name": "#%%\n"
    }
   }
  },
  {
   "cell_type": "code",
   "execution_count": 12,
   "outputs": [
    {
     "data": {
      "text/plain": "<mpl_toolkits.mplot3d.art3d.Poly3DCollection at 0x7fef30e2f760>"
     },
     "execution_count": 12,
     "metadata": {},
     "output_type": "execute_result"
    }
   ],
   "source": [
    "fig3d = plt.figure()\n",
    "ax = Axes3D(fig3d)\n",
    "X = np.linspace(0.000001, 2 * np.pi, 256)\n",
    "rho_list, X = np.meshgrid(rho_list, X)    # x-y grid\n",
    "ax.plot_surface(rho_list, X , height, rstride=1, cstride=1, cmap=plt.get_cmap('rainbow'))"
   ],
   "metadata": {
    "collapsed": false,
    "pycharm": {
     "name": "#%%\n"
    }
   }
  },
  {
   "cell_type": "code",
   "execution_count": 18,
   "outputs": [
    {
     "name": "stdout",
     "output_type": "stream",
     "text": [
      "[[4.         4.14285714 4.28571429 ... 5.71428571 5.85714286 6.        ]\n",
      " [4.         4.14285714 4.28571429 ... 5.71428571 5.85714286 6.        ]\n",
      " [4.         4.14285714 4.28571429 ... 5.71428571 5.85714286 6.        ]\n",
      " ...\n",
      " [4.         4.14285714 4.28571429 ... 5.71428571 5.85714286 6.        ]\n",
      " [4.         4.14285714 4.28571429 ... 5.71428571 5.85714286 6.        ]\n",
      " [4.         4.14285714 4.28571429 ... 5.71428571 5.85714286 6.        ]]\n"
     ]
    }
   ],
   "source": [
    "print (rho_list[1:13])"
   ],
   "metadata": {
    "collapsed": false,
    "pycharm": {
     "name": "#%%\n"
    }
   }
  },
  {
   "cell_type": "code",
   "execution_count": null,
   "outputs": [],
   "source": [],
   "metadata": {
    "collapsed": false,
    "pycharm": {
     "name": "#%%\n"
    }
   }
  }
 ],
 "metadata": {
  "kernelspec": {
   "name": "python3",
   "language": "python",
   "display_name": "Python 3"
  },
  "language_info": {
   "codemirror_mode": {
    "name": "ipython",
    "version": 2
   },
   "file_extension": ".py",
   "mimetype": "text/x-python",
   "name": "python",
   "nbconvert_exporter": "python",
   "pygments_lexer": "ipython2",
   "version": "3.8.5-final"
  }
 },
 "nbformat": 4,
 "nbformat_minor": 0
}