{
 "metadata": {
  "language_info": {
   "codemirror_mode": {
    "name": "ipython",
    "version": 3
   },
   "file_extension": ".py",
   "mimetype": "text/x-python",
   "name": "python",
   "nbconvert_exporter": "python",
   "pygments_lexer": "ipython3",
   "version": "3.8.5-final"
  },
  "orig_nbformat": 2,
  "kernelspec": {
   "name": "python_defaultSpec_1600872614195",
   "display_name": "Python 3.8.5 64-bit ('py38': conda)"
  }
 },
 "nbformat": 4,
 "nbformat_minor": 2,
 "cells": [
  {
   "cell_type": "code",
   "execution_count": 1,
   "metadata": {},
   "outputs": [],
   "source": [
    "import torch\n",
    "import numpy as np\n",
    "import matplotlib.pyplot as plt\n",
    "import pandas as pd"
   ]
  },
  {
   "source": [
    "# prediction 1D\n",
    "## prediction"
   ],
   "cell_type": "markdown",
   "metadata": {}
  },
  {
   "cell_type": "code",
   "execution_count": 2,
   "metadata": {
    "tags": []
   },
   "outputs": [
    {
     "output_type": "stream",
     "name": "stdout",
     "text": "tensor(2., requires_grad=True) tensor(-1., requires_grad=True)\n"
    }
   ],
   "source": [
    "w = torch.tensor(2.0, requires_grad = True )\n",
    "b = torch.tensor(-1.0, requires_grad = True )\n",
    "print (w,b)"
   ]
  },
  {
   "cell_type": "code",
   "execution_count": 3,
   "metadata": {},
   "outputs": [],
   "source": [
    "def forward(x):\n",
    "    yhat = w*x +b\n",
    "    return yhat"
   ]
  },
  {
   "cell_type": "code",
   "execution_count": 4,
   "metadata": {
    "tags": []
   },
   "outputs": [
    {
     "output_type": "stream",
     "name": "stdout",
     "text": "tensor([1.], grad_fn=<AddBackward0>)\n"
    }
   ],
   "source": [
    "x = torch.tensor([1.0])\n",
    "yhat = forward(x)\n",
    "print (yhat)"
   ]
  },
  {
   "cell_type": "code",
   "execution_count": 5,
   "metadata": {
    "tags": []
   },
   "outputs": [
    {
     "output_type": "stream",
     "name": "stdout",
     "text": "tensor([[1.],\n        [2.]])\ntorch.Size([2, 1])\n"
    }
   ],
   "source": [
    "x = torch.tensor([[1.0],[2.0]])\n",
    "print (x)\n",
    "print (x.shape)"
   ]
  },
  {
   "cell_type": "code",
   "execution_count": 6,
   "metadata": {
    "tags": []
   },
   "outputs": [
    {
     "output_type": "stream",
     "name": "stdout",
     "text": "tensor([[1.],\n        [3.]], grad_fn=<AddBackward0>)\ntorch.Size([2, 1])\n"
    }
   ],
   "source": [
    "yhat = forward(x)\n",
    "print (yhat)\n",
    "print (yhat.shape)"
   ]
  },
  {
   "source": [
    "## class linear"
   ],
   "cell_type": "markdown",
   "metadata": {}
  },
  {
   "cell_type": "code",
   "execution_count": 7,
   "metadata": {},
   "outputs": [],
   "source": [
    "from torch.nn import Linear"
   ]
  },
  {
   "cell_type": "code",
   "execution_count": 8,
   "metadata": {
    "tags": []
   },
   "outputs": [
    {
     "output_type": "stream",
     "name": "stdout",
     "text": "[Parameter containing:\ntensor([[0.8693]], requires_grad=True), Parameter containing:\ntensor([-0.4289], requires_grad=True)]\n<class 'torch.nn.modules.linear.Linear'>\n"
    }
   ],
   "source": [
    "lr = Linear(in_features=1, out_features=1, bias=True)\n",
    "print (list(lr.parameters()))\n",
    "print (type(lr))"
   ]
  },
  {
   "source": [
    "**in_features** – size of each input sample\n",
    "\n",
    "**out_features** – size of each output sample\n",
    "\n",
    "**bias** – If set to False, the layer will not learn an additive bias. Default: True"
   ],
   "cell_type": "markdown",
   "metadata": {}
  },
  {
   "cell_type": "code",
   "execution_count": 9,
   "metadata": {
    "tags": []
   },
   "outputs": [
    {
     "output_type": "stream",
     "name": "stdout",
     "text": "Python dictionary:  OrderedDict([('weight', tensor([[0.8693]])), ('bias', tensor([-0.4289]))])\nkeys:  odict_keys(['weight', 'bias'])\nvalues:  odict_values([tensor([[0.8693]]), tensor([-0.4289])])\n"
    }
   ],
   "source": [
    "print(\"Python dictionary: \",lr.state_dict())\n",
    "print(\"keys: \",lr.state_dict().keys())\n",
    "print(\"values: \",lr.state_dict().values())"
   ]
  },
  {
   "cell_type": "code",
   "execution_count": 10,
   "metadata": {
    "tags": []
   },
   "outputs": [
    {
     "output_type": "stream",
     "name": "stdout",
     "text": "weight: Parameter containing:\ntensor([[0.8693]], requires_grad=True)\nbias: Parameter containing:\ntensor([-0.4289], requires_grad=True)\n"
    }
   ],
   "source": [
    "print(\"weight:\",lr.weight)\n",
    "print(\"bias:\",lr.bias)"
   ]
  },
  {
   "cell_type": "code",
   "execution_count": 11,
   "metadata": {
    "tags": []
   },
   "outputs": [
    {
     "output_type": "stream",
     "name": "stdout",
     "text": "tensor([[0.4404]], grad_fn=<AddmmBackward>)\n"
    }
   ],
   "source": [
    "x = torch.tensor([[1.0]])\n",
    "yhat = lr(x)\n",
    "print (yhat)"
   ]
  },
  {
   "source": [
    "$ y = xW^{T} + b $"
   ],
   "cell_type": "markdown",
   "metadata": {}
  },
  {
   "cell_type": "code",
   "execution_count": 13,
   "metadata": {
    "tags": []
   },
   "outputs": [
    {
     "output_type": "stream",
     "name": "stdout",
     "text": "tensor([[0.4404],\n        [1.3097]], grad_fn=<AddmmBackward>)\n"
    }
   ],
   "source": [
    "x = torch.tensor([[1.0],[2.0]])\n",
    "yhat = lr(x)\n",
    "print (yhat)"
   ]
  },
  {
   "source": [
    "## build custom Modules"
   ],
   "cell_type": "markdown",
   "metadata": {}
  },
  {
   "cell_type": "code",
   "execution_count": 16,
   "metadata": {},
   "outputs": [],
   "source": [
    "from torch import nn"
   ]
  },
  {
   "cell_type": "code",
   "execution_count": null,
   "metadata": {},
   "outputs": [],
   "source": []
  },
  {
   "cell_type": "code",
   "execution_count": 17,
   "metadata": {},
   "outputs": [],
   "source": [
    "class LR (nn.Module):\n",
    "    def __init__ (self, input_size, output_size):\n",
    "        super(LR, self).__init__()  ## 这一行不是很懂\n",
    "        self.linear = nn.Linear(input_size, output_size)\n",
    "    \n",
    "    def forward(self, x):\n",
    "        out = self.linear(x)\n",
    "        return out"
   ]
  },
  {
   "cell_type": "code",
   "execution_count": 20,
   "metadata": {
    "tags": []
   },
   "outputs": [
    {
     "output_type": "stream",
     "name": "stdout",
     "text": "[Parameter containing:\ntensor([[0.5916]], requires_grad=True), Parameter containing:\ntensor([-0.1449], requires_grad=True)]\n"
    }
   ],
   "source": [
    "lr = LR (1,1)\n",
    "print (list(lr.parameters()))"
   ]
  },
  {
   "cell_type": "code",
   "execution_count": 19,
   "metadata": {
    "tags": []
   },
   "outputs": [
    {
     "output_type": "stream",
     "name": "stdout",
     "text": "Linear(in_features=1, out_features=1, bias=True)\n"
    }
   ],
   "source": [
    "print (lr.linear)"
   ]
  },
  {
   "source": [
    "# Linear Regression 1D; Traning 1 parameter"
   ],
   "cell_type": "markdown",
   "metadata": {}
  },
  {
   "cell_type": "code",
   "execution_count": 22,
   "metadata": {},
   "outputs": [],
   "source": [
    "import numpy as np\n",
    "import matplotlib.pyplot as plt"
   ]
  },
  {
   "cell_type": "code",
   "execution_count": null,
   "metadata": {},
   "outputs": [],
   "source": [
    "class plot_diagram ():\n",
    "\n",
    "    # constructor 构造器\n",
    "    def __init__ (self, X, Y, w, stop, go=False):\n",
    "        start = w.data\n",
    "        self.error = []\n",
    "        srlf.parameter = []\n",
    "        self.X = X.numpy()\n",
    "        self.Y = Y.numpy()\n",
    "        self.parameter_values = torch.arange(start, stop)\n",
    "        self.Loss_function = [criterion(forward(X), Y)] for w.data in self.parameter_values]\n",
    "        w.data = start\n",
    "\n",
    "    # executor 执行器\n",
    "    def __call__(self, Yhat, w, error, n):\n",
    "        self.error.append(error)\n",
    "        self.parameter.append(w.data)\n",
    "        plt.subplot(212)\n",
    "        plt.plot(self.X, Yhat.detach().numpy())\n",
    "        plt.plot(self.X, self.Y,'ro')\n",
    "        plt.xlabel(\"A\")\n",
    "        plt.ylim(-20, 20)\n",
    "        plt.subplot(211)\n",
    "        plt.title(\"Data Space (top) Estimated Line (bottom) Iteration \" + str(n))\n",
    "        plt.plot(self.parameter_values.numpy(), self.Loss_function)   \n",
    "        plt.plot(self.parameter, self.error, 'ro')\n",
    "        plt.xlabel(\"B\")\n",
    "        plt.figure()\n",
    "\n",
    "    # Destructor 破坏器\n",
    "    def __del__(self):\n",
    "        plt.close('all')"
   ]
  },
  {
   "cell_type": "code",
   "execution_count": 23,
   "metadata": {},
   "outputs": [],
   "source": [
    "import torch"
   ]
  },
  {
   "cell_type": "code",
   "execution_count": 26,
   "metadata": {
    "tags": []
   },
   "outputs": [
    {
     "output_type": "stream",
     "name": "stdout",
     "text": "tensor([[-3.0000],\n        [-2.9000],\n        [-2.8000],\n        [-2.7000],\n        [-2.6000],\n        [-2.5000],\n        [-2.4000],\n        [-2.3000],\n        [-2.2000],\n        [-2.1000],\n        [-2.0000],\n        [-1.9000],\n        [-1.8000],\n        [-1.7000],\n        [-1.6000],\n        [-1.5000],\n        [-1.4000],\n        [-1.3000],\n        [-1.2000],\n        [-1.1000],\n        [-1.0000],\n        [-0.9000],\n        [-0.8000],\n        [-0.7000],\n        [-0.6000],\n        [-0.5000],\n        [-0.4000],\n        [-0.3000],\n        [-0.2000],\n        [-0.1000],\n        [ 0.0000],\n        [ 0.1000],\n        [ 0.2000],\n        [ 0.3000],\n        [ 0.4000],\n        [ 0.5000],\n        [ 0.6000],\n        [ 0.7000],\n        [ 0.8000],\n        [ 0.9000],\n        [ 1.0000],\n        [ 1.1000],\n        [ 1.2000],\n        [ 1.3000],\n        [ 1.4000],\n        [ 1.5000],\n        [ 1.6000],\n        [ 1.7000],\n        [ 1.8000],\n        [ 1.9000],\n        [ 2.0000],\n        [ 2.1000],\n        [ 2.2000],\n        [ 2.3000],\n        [ 2.4000],\n        [ 2.5000],\n        [ 2.6000],\n        [ 2.7000],\n        [ 2.8000],\n        [ 2.9000]])\n"
    }
   ],
   "source": [
    "X = torch.arange(-3,3,0.1).view(-1,1) ## the view function here is equal to reshape, make sure the \n",
    "print (X)"
   ]
  },
  {
   "cell_type": "code",
   "execution_count": null,
   "metadata": {},
   "outputs": [],
   "source": []
  }
 ]
}