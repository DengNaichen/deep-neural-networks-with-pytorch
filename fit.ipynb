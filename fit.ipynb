{
 "cells": [
  {
   "cell_type": "code",
   "execution_count": 1,
   "outputs": [
    {
     "data": {
      "text/plain": "<Figure size 432x288 with 1 Axes>",
      "image/png": "[encoded data removed]"
     },
     "metadata": {
      "needs_background": "light"
     },
     "output_type": "display_data"
    }
   ],
   "source": [
    "import torch\n",
    "from Net import Net\n",
    "from Data import Data\n",
    "from Train import fit, train_free_energy\n",
    "import matplotlib.pyplot as plt\n",
    "\n",
    "data_set = Data(128)\n",
    "x, y = data_set.get()\n",
    "matrix = data_set.matrix()\n",
    "Layers = [1, 16, 16, 16, 16, 1]\n",
    "net = Net(Layers)\n",
    "learning_rate = 0.01\n",
    "optimizer = torch.optim.Adam(net.parameters(), lr=learning_rate)\n",
    "# data_set.plot_data()\n",
    "net = fit(x, y, optimizer, net, 500, diagram=False)\n",
    "\n",
    "yhat = net(x)\n",
    "plt.scatter(x.data.numpy(), yhat.data.numpy(), marker=\".\")\n",
    "plt.show()"
   ],
   "metadata": {
    "collapsed": false,
    "pycharm": {
     "name": "#%%\n"
    },
    "tags": []
   }
  },
  {
   "cell_type": "code",
   "execution_count": 9,
   "metadata": {},
   "outputs": [
    {
     "data": {
      "text/plain": "<Figure size 432x288 with 1 Axes>",
      "image/png": "[encoded data removed]"
     },
     "metadata": {
      "needs_background": "light"
     },
     "output_type": "display_data"
    }
   ],
   "source": [
    "data_set = Data(128)\n",
    "x, y = data_set.get()\n",
    "matrics = data_set.matrix()\n",
    "Layers = [1, 16, 16, 16, 16, 1]\n",
    "net = Net(Layers)\n",
    "learning_rate = 0.01\n",
    "optimizer = torch.optim.Adam(net.parameters(), lr=learning_rate)\n",
    "rho = 5\n",
    "lambd = 10\n",
    "net = train_free_energy(net, x, rho, lambd, optimizer, matrics, epochs=50000, diagram = False)\n",
    "yhat = net(x)\n",
    "plt.scatter(x.data.numpy(), yhat.data.numpy(), marker=\".\")\n",
    "plt.show()"
   ]
  },
  {
   "cell_type": "code",
   "execution_count": 10,
   "metadata": {},
   "outputs": [
    {
     "name": "stdout",
     "output_type": "stream",
     "text": [
      "tensor([0.9634], grad_fn=<DivBackward1>)\n"
     ]
    }
   ],
   "source": [
    "I = torch.trapz(yhat.T, x.T)\n",
    "print (I)\n"
   ]
  },
  {
   "cell_type": "code",
   "execution_count": null,
   "outputs": [],
   "source": [],
   "metadata": {
    "collapsed": false,
    "pycharm": {
     "name": "#%%\n"
    }
   }
  }
 ],
 "metadata": {
  "kernelspec": {
   "display_name": "Python 3",
   "language": "python",
   "name": "python3"
  },
  "language_info": {
   "codemirror_mode": {
    "name": "ipython",
    "version": 2
   },
   "file_extension": ".py",
   "mimetype": "text/x-python",
   "name": "python",
   "nbconvert_exporter": "python",
   "pygments_lexer": "ipython2",
   "version": "3.8.3-final"
  }
 },
 "nbformat": 4,
 "nbformat_minor": 0
}